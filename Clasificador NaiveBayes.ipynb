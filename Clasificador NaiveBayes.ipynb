{
 "cells": [
  {
   "cell_type": "markdown",
   "metadata": {},
   "source": [
    "# Clasificador mediante Naive Bayes\n"
   ]
  },
  {
   "cell_type": "code",
   "execution_count": 167,
   "metadata": {},
   "outputs": [],
   "source": [
    "import pandas as pd\n",
    "import matplotlib.pyplot as plt\n",
    "\n",
    "from sklearn.model_selection import train_test_split #dividir datasets \n",
    "from sklearn.metrics import classification_report\n",
    "from sklearn.metrics import confusion_matrix\n",
    "from sklearn.naive_bayes import GaussianNB\n",
    "from sklearn.preprocessing import LabelEncoder\n",
    "from sklearn import metrics"
   ]
  },
  {
   "cell_type": "markdown",
   "metadata": {},
   "source": [
    "### Carga de informacion csv en un dataframe"
   ]
  },
  {
   "cell_type": "code",
   "execution_count": 169,
   "metadata": {},
   "outputs": [
    {
     "name": "stdout",
     "output_type": "stream",
     "text": [
      "filas y columnas:  (435, 17)\n",
      "clase\n",
      "democrat      267\n",
      "republican    168\n",
      "dtype: int64\n"
     ]
    }
   ],
   "source": [
    "dataframe = pd.read_csv(r\"C:/Archivos/house-votes-84.data.csv\",names = ['clase','a','b','c','d','e','f','g','h','i','j','k','l','m','n','o','p'])\n",
    "dataframe.shape\n",
    "print('filas y columnas: ', dataframe.shape)\n",
    "print(dataframe.groupby('clase').size())"
   ]
  },
  {
   "cell_type": "markdown",
   "metadata": {},
   "source": [
    "Verificacion si los datos fueron cargados apropiadamente"
   ]
  },
  {
   "cell_type": "code",
   "execution_count": 75,
   "metadata": {
    "scrolled": true
   },
   "outputs": [
    {
     "data": {
      "text/html": [
       "<div>\n",
       "<style scoped>\n",
       "    .dataframe tbody tr th:only-of-type {\n",
       "        vertical-align: middle;\n",
       "    }\n",
       "\n",
       "    .dataframe tbody tr th {\n",
       "        vertical-align: top;\n",
       "    }\n",
       "\n",
       "    .dataframe thead th {\n",
       "        text-align: right;\n",
       "    }\n",
       "</style>\n",
       "<table border=\"1\" class=\"dataframe\">\n",
       "  <thead>\n",
       "    <tr style=\"text-align: right;\">\n",
       "      <th></th>\n",
       "      <th>clase</th>\n",
       "      <th>a</th>\n",
       "      <th>b</th>\n",
       "      <th>c</th>\n",
       "      <th>d</th>\n",
       "      <th>e</th>\n",
       "      <th>f</th>\n",
       "      <th>g</th>\n",
       "      <th>h</th>\n",
       "      <th>i</th>\n",
       "      <th>j</th>\n",
       "      <th>k</th>\n",
       "      <th>l</th>\n",
       "      <th>m</th>\n",
       "      <th>n</th>\n",
       "      <th>o</th>\n",
       "      <th>p</th>\n",
       "    </tr>\n",
       "  </thead>\n",
       "  <tbody>\n",
       "    <tr>\n",
       "      <th>0</th>\n",
       "      <td>republican</td>\n",
       "      <td>n</td>\n",
       "      <td>y</td>\n",
       "      <td>n</td>\n",
       "      <td>y</td>\n",
       "      <td>y</td>\n",
       "      <td>y</td>\n",
       "      <td>n</td>\n",
       "      <td>n</td>\n",
       "      <td>n</td>\n",
       "      <td>y</td>\n",
       "      <td>?</td>\n",
       "      <td>y</td>\n",
       "      <td>y</td>\n",
       "      <td>y</td>\n",
       "      <td>n</td>\n",
       "      <td>y</td>\n",
       "    </tr>\n",
       "    <tr>\n",
       "      <th>1</th>\n",
       "      <td>republican</td>\n",
       "      <td>n</td>\n",
       "      <td>y</td>\n",
       "      <td>n</td>\n",
       "      <td>y</td>\n",
       "      <td>y</td>\n",
       "      <td>y</td>\n",
       "      <td>n</td>\n",
       "      <td>n</td>\n",
       "      <td>n</td>\n",
       "      <td>n</td>\n",
       "      <td>n</td>\n",
       "      <td>y</td>\n",
       "      <td>y</td>\n",
       "      <td>y</td>\n",
       "      <td>n</td>\n",
       "      <td>?</td>\n",
       "    </tr>\n",
       "    <tr>\n",
       "      <th>2</th>\n",
       "      <td>democrat</td>\n",
       "      <td>?</td>\n",
       "      <td>y</td>\n",
       "      <td>y</td>\n",
       "      <td>?</td>\n",
       "      <td>y</td>\n",
       "      <td>y</td>\n",
       "      <td>n</td>\n",
       "      <td>n</td>\n",
       "      <td>n</td>\n",
       "      <td>n</td>\n",
       "      <td>y</td>\n",
       "      <td>n</td>\n",
       "      <td>y</td>\n",
       "      <td>y</td>\n",
       "      <td>n</td>\n",
       "      <td>n</td>\n",
       "    </tr>\n",
       "    <tr>\n",
       "      <th>3</th>\n",
       "      <td>democrat</td>\n",
       "      <td>n</td>\n",
       "      <td>y</td>\n",
       "      <td>y</td>\n",
       "      <td>n</td>\n",
       "      <td>?</td>\n",
       "      <td>y</td>\n",
       "      <td>n</td>\n",
       "      <td>n</td>\n",
       "      <td>n</td>\n",
       "      <td>n</td>\n",
       "      <td>y</td>\n",
       "      <td>n</td>\n",
       "      <td>y</td>\n",
       "      <td>n</td>\n",
       "      <td>n</td>\n",
       "      <td>y</td>\n",
       "    </tr>\n",
       "    <tr>\n",
       "      <th>4</th>\n",
       "      <td>democrat</td>\n",
       "      <td>y</td>\n",
       "      <td>y</td>\n",
       "      <td>y</td>\n",
       "      <td>n</td>\n",
       "      <td>y</td>\n",
       "      <td>y</td>\n",
       "      <td>n</td>\n",
       "      <td>n</td>\n",
       "      <td>n</td>\n",
       "      <td>n</td>\n",
       "      <td>y</td>\n",
       "      <td>?</td>\n",
       "      <td>y</td>\n",
       "      <td>y</td>\n",
       "      <td>y</td>\n",
       "      <td>y</td>\n",
       "    </tr>\n",
       "    <tr>\n",
       "      <th>5</th>\n",
       "      <td>democrat</td>\n",
       "      <td>n</td>\n",
       "      <td>y</td>\n",
       "      <td>y</td>\n",
       "      <td>n</td>\n",
       "      <td>y</td>\n",
       "      <td>y</td>\n",
       "      <td>n</td>\n",
       "      <td>n</td>\n",
       "      <td>n</td>\n",
       "      <td>n</td>\n",
       "      <td>n</td>\n",
       "      <td>n</td>\n",
       "      <td>y</td>\n",
       "      <td>y</td>\n",
       "      <td>y</td>\n",
       "      <td>y</td>\n",
       "    </tr>\n",
       "    <tr>\n",
       "      <th>6</th>\n",
       "      <td>democrat</td>\n",
       "      <td>n</td>\n",
       "      <td>y</td>\n",
       "      <td>n</td>\n",
       "      <td>y</td>\n",
       "      <td>y</td>\n",
       "      <td>y</td>\n",
       "      <td>n</td>\n",
       "      <td>n</td>\n",
       "      <td>n</td>\n",
       "      <td>n</td>\n",
       "      <td>n</td>\n",
       "      <td>n</td>\n",
       "      <td>?</td>\n",
       "      <td>y</td>\n",
       "      <td>y</td>\n",
       "      <td>y</td>\n",
       "    </tr>\n",
       "    <tr>\n",
       "      <th>7</th>\n",
       "      <td>republican</td>\n",
       "      <td>n</td>\n",
       "      <td>y</td>\n",
       "      <td>n</td>\n",
       "      <td>y</td>\n",
       "      <td>y</td>\n",
       "      <td>y</td>\n",
       "      <td>n</td>\n",
       "      <td>n</td>\n",
       "      <td>n</td>\n",
       "      <td>n</td>\n",
       "      <td>n</td>\n",
       "      <td>n</td>\n",
       "      <td>y</td>\n",
       "      <td>y</td>\n",
       "      <td>?</td>\n",
       "      <td>y</td>\n",
       "    </tr>\n",
       "    <tr>\n",
       "      <th>8</th>\n",
       "      <td>republican</td>\n",
       "      <td>n</td>\n",
       "      <td>y</td>\n",
       "      <td>n</td>\n",
       "      <td>y</td>\n",
       "      <td>y</td>\n",
       "      <td>y</td>\n",
       "      <td>n</td>\n",
       "      <td>n</td>\n",
       "      <td>n</td>\n",
       "      <td>n</td>\n",
       "      <td>n</td>\n",
       "      <td>y</td>\n",
       "      <td>y</td>\n",
       "      <td>y</td>\n",
       "      <td>n</td>\n",
       "      <td>y</td>\n",
       "    </tr>\n",
       "    <tr>\n",
       "      <th>9</th>\n",
       "      <td>democrat</td>\n",
       "      <td>y</td>\n",
       "      <td>y</td>\n",
       "      <td>y</td>\n",
       "      <td>n</td>\n",
       "      <td>n</td>\n",
       "      <td>n</td>\n",
       "      <td>y</td>\n",
       "      <td>y</td>\n",
       "      <td>y</td>\n",
       "      <td>n</td>\n",
       "      <td>n</td>\n",
       "      <td>n</td>\n",
       "      <td>n</td>\n",
       "      <td>n</td>\n",
       "      <td>?</td>\n",
       "      <td>?</td>\n",
       "    </tr>\n",
       "  </tbody>\n",
       "</table>\n",
       "</div>"
      ],
      "text/plain": [
       "        clase  a  b  c  d  e  f  g  h  i  j  k  l  m  n  o  p\n",
       "0  republican  n  y  n  y  y  y  n  n  n  y  ?  y  y  y  n  y\n",
       "1  republican  n  y  n  y  y  y  n  n  n  n  n  y  y  y  n  ?\n",
       "2    democrat  ?  y  y  ?  y  y  n  n  n  n  y  n  y  y  n  n\n",
       "3    democrat  n  y  y  n  ?  y  n  n  n  n  y  n  y  n  n  y\n",
       "4    democrat  y  y  y  n  y  y  n  n  n  n  y  ?  y  y  y  y\n",
       "5    democrat  n  y  y  n  y  y  n  n  n  n  n  n  y  y  y  y\n",
       "6    democrat  n  y  n  y  y  y  n  n  n  n  n  n  ?  y  y  y\n",
       "7  republican  n  y  n  y  y  y  n  n  n  n  n  n  y  y  ?  y\n",
       "8  republican  n  y  n  y  y  y  n  n  n  n  n  y  y  y  n  y\n",
       "9    democrat  y  y  y  n  n  n  y  y  y  n  n  n  n  n  ?  ?"
      ]
     },
     "execution_count": 75,
     "metadata": {},
     "output_type": "execute_result"
    }
   ],
   "source": [
    "dataframe.head(10)"
   ]
  },
  {
   "cell_type": "markdown",
   "metadata": {},
   "source": [
    "### preprocesamiento de la informacion\n",
    "\n",
    "transformacion de valores de etiquetas a valores numericos"
   ]
  },
  {
   "cell_type": "code",
   "execution_count": 171,
   "metadata": {},
   "outputs": [
    {
     "name": "stdout",
     "output_type": "stream",
     "text": [
      "   clase  a  b  c  d  e  f  g  h  i  j  k  l  m  n  o  p\n",
      "0      1  1  2  1  2  2  2  1  1  1  2  0  2  2  2  1  2\n",
      "1      1  1  2  1  2  2  2  1  1  1  1  1  2  2  2  1  0\n",
      "2      0  0  2  2  0  2  2  1  1  1  1  2  1  2  2  1  1\n",
      "3      0  1  2  2  1  0  2  1  1  1  1  2  1  2  1  1  2\n",
      "4      0  2  2  2  1  2  2  1  1  1  1  2  0  2  2  2  2\n",
      "5      0  1  2  2  1  2  2  1  1  1  1  1  1  2  2  2  2\n",
      "6      0  1  2  1  2  2  2  1  1  1  1  1  1  0  2  2  2\n",
      "7      1  1  2  1  2  2  2  1  1  1  1  1  1  2  2  0  2\n",
      "8      1  1  2  1  2  2  2  1  1  1  1  1  2  2  2  1  2\n",
      "9      0  2  2  2  1  1  1  2  2  2  1  1  1  1  1  0  0\n"
     ]
    }
   ],
   "source": [
    "data=dataframe.apply(LabelEncoder().fit_transform)\n",
    " \n",
    "print(data.head(10))"
   ]
  },
  {
   "cell_type": "code",
   "execution_count": 125,
   "metadata": {},
   "outputs": [
    {
     "data": {
      "text/plain": [
       "array([[<matplotlib.axes._subplots.AxesSubplot object at 0x000001413D56DB70>,\n",
       "        <matplotlib.axes._subplots.AxesSubplot object at 0x000001414016BAC8>,\n",
       "        <matplotlib.axes._subplots.AxesSubplot object at 0x0000014140193198>,\n",
       "        <matplotlib.axes._subplots.AxesSubplot object at 0x00000141401B47F0>],\n",
       "       [<matplotlib.axes._subplots.AxesSubplot object at 0x00000141401D4E80>,\n",
       "        <matplotlib.axes._subplots.AxesSubplot object at 0x00000141401D4EB8>,\n",
       "        <matplotlib.axes._subplots.AxesSubplot object at 0x0000014140219BE0>,\n",
       "        <matplotlib.axes._subplots.AxesSubplot object at 0x00000141402402B0>],\n",
       "       [<matplotlib.axes._subplots.AxesSubplot object at 0x000001414025F940>,\n",
       "        <matplotlib.axes._subplots.AxesSubplot object at 0x000001414027FFD0>,\n",
       "        <matplotlib.axes._subplots.AxesSubplot object at 0x00000141402A76A0>,\n",
       "        <matplotlib.axes._subplots.AxesSubplot object at 0x00000141402C6D30>],\n",
       "       [<matplotlib.axes._subplots.AxesSubplot object at 0x00000141402ED400>,\n",
       "        <matplotlib.axes._subplots.AxesSubplot object at 0x000001414030EA90>,\n",
       "        <matplotlib.axes._subplots.AxesSubplot object at 0x0000014140336160>,\n",
       "        <matplotlib.axes._subplots.AxesSubplot object at 0x00000141403547F0>]],\n",
       "      dtype=object)"
      ]
     },
     "execution_count": 125,
     "metadata": {},
     "output_type": "execute_result"
    },
    {
     "data": {
      "image/png": "[encoded data removed]",
      "text/plain": [
       "<Figure size 432x288 with 16 Axes>"
      ]
     },
     "metadata": {
      "needs_background": "light"
     },
     "output_type": "display_data"
    }
   ],
   "source": [
    "data.hist(data.columns[1:16]) # validamos si los datos estan mas o menos equilibrados"
   ]
  },
  {
   "cell_type": "code",
   "execution_count": 126,
   "metadata": {},
   "outputs": [
    {
     "data": {
      "text/html": [
       "<div>\n",
       "<style scoped>\n",
       "    .dataframe tbody tr th:only-of-type {\n",
       "        vertical-align: middle;\n",
       "    }\n",
       "\n",
       "    .dataframe tbody tr th {\n",
       "        vertical-align: top;\n",
       "    }\n",
       "\n",
       "    .dataframe thead th {\n",
       "        text-align: right;\n",
       "    }\n",
       "</style>\n",
       "<table border=\"1\" class=\"dataframe\">\n",
       "  <thead>\n",
       "    <tr style=\"text-align: right;\">\n",
       "      <th></th>\n",
       "      <th>clase</th>\n",
       "      <th>a</th>\n",
       "      <th>b</th>\n",
       "      <th>c</th>\n",
       "      <th>d</th>\n",
       "      <th>e</th>\n",
       "      <th>f</th>\n",
       "      <th>g</th>\n",
       "      <th>h</th>\n",
       "      <th>i</th>\n",
       "      <th>j</th>\n",
       "      <th>k</th>\n",
       "      <th>l</th>\n",
       "      <th>m</th>\n",
       "      <th>n</th>\n",
       "      <th>o</th>\n",
       "      <th>p</th>\n",
       "    </tr>\n",
       "  </thead>\n",
       "  <tbody>\n",
       "    <tr>\n",
       "      <th>count</th>\n",
       "      <td>435.000000</td>\n",
       "      <td>435.000000</td>\n",
       "      <td>435.000000</td>\n",
       "      <td>435.000000</td>\n",
       "      <td>435.000000</td>\n",
       "      <td>435.000000</td>\n",
       "      <td>435.00000</td>\n",
       "      <td>435.000000</td>\n",
       "      <td>435.000000</td>\n",
       "      <td>435.000000</td>\n",
       "      <td>435.000000</td>\n",
       "      <td>435.000000</td>\n",
       "      <td>435.000000</td>\n",
       "      <td>435.000000</td>\n",
       "      <td>435.000000</td>\n",
       "      <td>435.000000</td>\n",
       "      <td>435.000000</td>\n",
       "    </tr>\n",
       "    <tr>\n",
       "      <th>mean</th>\n",
       "      <td>0.386207</td>\n",
       "      <td>1.402299</td>\n",
       "      <td>1.337931</td>\n",
       "      <td>1.556322</td>\n",
       "      <td>1.381609</td>\n",
       "      <td>1.452874</td>\n",
       "      <td>1.60000</td>\n",
       "      <td>1.517241</td>\n",
       "      <td>1.521839</td>\n",
       "      <td>1.425287</td>\n",
       "      <td>1.480460</td>\n",
       "      <td>1.296552</td>\n",
       "      <td>1.321839</td>\n",
       "      <td>1.422989</td>\n",
       "      <td>1.531034</td>\n",
       "      <td>1.335632</td>\n",
       "      <td>1.379310</td>\n",
       "    </tr>\n",
       "    <tr>\n",
       "      <th>std</th>\n",
       "      <td>0.487440</td>\n",
       "      <td>0.544342</td>\n",
       "      <td>0.667418</td>\n",
       "      <td>0.545974</td>\n",
       "      <td>0.535928</td>\n",
       "      <td>0.563449</td>\n",
       "      <td>0.53967</td>\n",
       "      <td>0.561065</td>\n",
       "      <td>0.564998</td>\n",
       "      <td>0.588527</td>\n",
       "      <td>0.531462</td>\n",
       "      <td>0.553049</td>\n",
       "      <td>0.601347</td>\n",
       "      <td>0.599866</td>\n",
       "      <td>0.572671</td>\n",
       "      <td>0.593742</td>\n",
       "      <td>0.845718</td>\n",
       "    </tr>\n",
       "    <tr>\n",
       "      <th>min</th>\n",
       "      <td>0.000000</td>\n",
       "      <td>0.000000</td>\n",
       "      <td>0.000000</td>\n",
       "      <td>0.000000</td>\n",
       "      <td>0.000000</td>\n",
       "      <td>0.000000</td>\n",
       "      <td>0.00000</td>\n",
       "      <td>0.000000</td>\n",
       "      <td>0.000000</td>\n",
       "      <td>0.000000</td>\n",
       "      <td>0.000000</td>\n",
       "      <td>0.000000</td>\n",
       "      <td>0.000000</td>\n",
       "      <td>0.000000</td>\n",
       "      <td>0.000000</td>\n",
       "      <td>0.000000</td>\n",
       "      <td>0.000000</td>\n",
       "    </tr>\n",
       "    <tr>\n",
       "      <th>25%</th>\n",
       "      <td>0.000000</td>\n",
       "      <td>1.000000</td>\n",
       "      <td>1.000000</td>\n",
       "      <td>1.000000</td>\n",
       "      <td>1.000000</td>\n",
       "      <td>1.000000</td>\n",
       "      <td>1.00000</td>\n",
       "      <td>1.000000</td>\n",
       "      <td>1.000000</td>\n",
       "      <td>1.000000</td>\n",
       "      <td>1.000000</td>\n",
       "      <td>1.000000</td>\n",
       "      <td>1.000000</td>\n",
       "      <td>1.000000</td>\n",
       "      <td>1.000000</td>\n",
       "      <td>1.000000</td>\n",
       "      <td>1.000000</td>\n",
       "    </tr>\n",
       "    <tr>\n",
       "      <th>50%</th>\n",
       "      <td>0.000000</td>\n",
       "      <td>1.000000</td>\n",
       "      <td>1.000000</td>\n",
       "      <td>2.000000</td>\n",
       "      <td>1.000000</td>\n",
       "      <td>1.000000</td>\n",
       "      <td>2.00000</td>\n",
       "      <td>2.000000</td>\n",
       "      <td>2.000000</td>\n",
       "      <td>1.000000</td>\n",
       "      <td>1.000000</td>\n",
       "      <td>1.000000</td>\n",
       "      <td>1.000000</td>\n",
       "      <td>1.000000</td>\n",
       "      <td>2.000000</td>\n",
       "      <td>1.000000</td>\n",
       "      <td>2.000000</td>\n",
       "    </tr>\n",
       "    <tr>\n",
       "      <th>75%</th>\n",
       "      <td>1.000000</td>\n",
       "      <td>2.000000</td>\n",
       "      <td>2.000000</td>\n",
       "      <td>2.000000</td>\n",
       "      <td>2.000000</td>\n",
       "      <td>2.000000</td>\n",
       "      <td>2.00000</td>\n",
       "      <td>2.000000</td>\n",
       "      <td>2.000000</td>\n",
       "      <td>2.000000</td>\n",
       "      <td>2.000000</td>\n",
       "      <td>2.000000</td>\n",
       "      <td>2.000000</td>\n",
       "      <td>2.000000</td>\n",
       "      <td>2.000000</td>\n",
       "      <td>2.000000</td>\n",
       "      <td>2.000000</td>\n",
       "    </tr>\n",
       "    <tr>\n",
       "      <th>max</th>\n",
       "      <td>1.000000</td>\n",
       "      <td>2.000000</td>\n",
       "      <td>2.000000</td>\n",
       "      <td>2.000000</td>\n",
       "      <td>2.000000</td>\n",
       "      <td>2.000000</td>\n",
       "      <td>2.00000</td>\n",
       "      <td>2.000000</td>\n",
       "      <td>2.000000</td>\n",
       "      <td>2.000000</td>\n",
       "      <td>2.000000</td>\n",
       "      <td>2.000000</td>\n",
       "      <td>2.000000</td>\n",
       "      <td>2.000000</td>\n",
       "      <td>2.000000</td>\n",
       "      <td>2.000000</td>\n",
       "      <td>2.000000</td>\n",
       "    </tr>\n",
       "  </tbody>\n",
       "</table>\n",
       "</div>"
      ],
      "text/plain": [
       "            clase           a           b           c           d           e  \\\n",
       "count  435.000000  435.000000  435.000000  435.000000  435.000000  435.000000   \n",
       "mean     0.386207    1.402299    1.337931    1.556322    1.381609    1.452874   \n",
       "std      0.487440    0.544342    0.667418    0.545974    0.535928    0.563449   \n",
       "min      0.000000    0.000000    0.000000    0.000000    0.000000    0.000000   \n",
       "25%      0.000000    1.000000    1.000000    1.000000    1.000000    1.000000   \n",
       "50%      0.000000    1.000000    1.000000    2.000000    1.000000    1.000000   \n",
       "75%      1.000000    2.000000    2.000000    2.000000    2.000000    2.000000   \n",
       "max      1.000000    2.000000    2.000000    2.000000    2.000000    2.000000   \n",
       "\n",
       "               f           g           h           i           j           k  \\\n",
       "count  435.00000  435.000000  435.000000  435.000000  435.000000  435.000000   \n",
       "mean     1.60000    1.517241    1.521839    1.425287    1.480460    1.296552   \n",
       "std      0.53967    0.561065    0.564998    0.588527    0.531462    0.553049   \n",
       "min      0.00000    0.000000    0.000000    0.000000    0.000000    0.000000   \n",
       "25%      1.00000    1.000000    1.000000    1.000000    1.000000    1.000000   \n",
       "50%      2.00000    2.000000    2.000000    1.000000    1.000000    1.000000   \n",
       "75%      2.00000    2.000000    2.000000    2.000000    2.000000    2.000000   \n",
       "max      2.00000    2.000000    2.000000    2.000000    2.000000    2.000000   \n",
       "\n",
       "                l           m           n           o           p  \n",
       "count  435.000000  435.000000  435.000000  435.000000  435.000000  \n",
       "mean     1.321839    1.422989    1.531034    1.335632    1.379310  \n",
       "std      0.601347    0.599866    0.572671    0.593742    0.845718  \n",
       "min      0.000000    0.000000    0.000000    0.000000    0.000000  \n",
       "25%      1.000000    1.000000    1.000000    1.000000    1.000000  \n",
       "50%      1.000000    1.000000    2.000000    1.000000    2.000000  \n",
       "75%      2.000000    2.000000    2.000000    2.000000    2.000000  \n",
       "max      2.000000    2.000000    2.000000    2.000000    2.000000  "
      ]
     },
     "execution_count": 126,
     "metadata": {},
     "output_type": "execute_result"
    }
   ],
   "source": [
    "data.describe()"
   ]
  },
  {
   "cell_type": "markdown",
   "metadata": {},
   "source": [
    "### division del conjunto de datos en entrenamiento y pruebas\n",
    "\n",
    "Vamos a hacer la division de los datos"
   ]
  },
  {
   "cell_type": "code",
   "execution_count": 148,
   "metadata": {},
   "outputs": [
    {
     "name": "stdout",
     "output_type": "stream",
     "text": [
      "conjunto prueba:  (87, 16)\n",
      "conjunto entrenamiento:  (348, 16)\n",
      "conjunto labels prueba:  (87,)\n",
      "conjunto labels entrenamiento:  (348,)\n"
     ]
    }
   ],
   "source": [
    "# Split data in training and test datasets\n",
    "X_train, X_test = train_test_split(data, test_size=0.2, random_state=89) \n",
    "y_train = X_train[\"clase\"]\n",
    "y_test = X_test[\"clase\"]\n",
    "X_train = X_train.drop('clase',1)  #eliminamos la clase en el dataframe \n",
    "X_test = X_test.drop('clase',1)\n",
    "\n",
    "print('conjunto prueba: ',X_test.shape)\n",
    "print('conjunto entrenamiento: ', X_train.shape)\n",
    "print('conjunto labels prueba: ', y_test.shape)\n",
    "print('conjunto labels entrenamiento: ', y_train.shape)"
   ]
  },
  {
   "cell_type": "markdown",
   "metadata": {},
   "source": [
    "### Creacion y entrenamiento del clasificador\n",
    "\n",
    "Con este hemos terminamos el preprocesamiento de la informacion, ya los datos estan listos para realizar el modelamiento con Naive Bayes.\n",
    "\n",
    "Ahora vamos a crear el modelo Gaussian Naive Bayes con SKLearn para ello utilizamos la clase GaussianNB() de sklearn.naive_bayes"
   ]
  },
  {
   "cell_type": "code",
   "execution_count": 172,
   "metadata": {},
   "outputs": [
    {
     "data": {
      "text/plain": [
       "GaussianNB(priors=None)"
      ]
     },
     "execution_count": 172,
     "metadata": {},
     "output_type": "execute_result"
    }
   ],
   "source": [
    "gnb = GaussianNB()\n",
    "gnb.fit(X_train, y_train) #hemos entrenado el modelo, con los datos de entrenamiento "
   ]
  },
  {
   "cell_type": "markdown",
   "metadata": {},
   "source": [
    "**prediccion con los datos de test** \n",
    "\n",
    "Vamos a realizar una prediccion con los datos de test para analizar la veracidad de nuestro modelo. "
   ]
  },
  {
   "cell_type": "code",
   "execution_count": 158,
   "metadata": {},
   "outputs": [
    {
     "name": "stdout",
     "output_type": "stream",
     "text": [
      "[1 0 0 0 0 0 1 0 1 0 0 1 0 0 0 1 1 1 1 1 0 0 0 0 1 1 0 0 0 0 0 0 1 1 1 1 0\n",
      " 1 0 0 1 0 1 1 0 0 0 0 0 1 0 1 0 0 0 0 0 1 1 0 0 1 1 1 0 0 0 0 0 0 0 1 1 0\n",
      " 0 0 0 1 1 0 0 1 1 1 1 0 0]\n"
     ]
    }
   ],
   "source": [
    "y_pred = gnb.predict(X_test)\n"
   ]
  },
  {
   "cell_type": "markdown",
   "metadata": {},
   "source": [
    "### Evaluacion del modelo por medio de diferentes metricas\n",
    "\n",
    "comprobamos la exactitud de nuestro modelo en este caso 91% lo cual es un valor muy alto "
   ]
  },
  {
   "cell_type": "code",
   "execution_count": 160,
   "metadata": {},
   "outputs": [
    {
     "name": "stdout",
     "output_type": "stream",
     "text": [
      "Accuracy: 0.9080459770114943\n"
     ]
    }
   ],
   "source": [
    "print(\"Accuracy:\",metrics.accuracy_score(y_test, y_pred))"
   ]
  },
  {
   "cell_type": "markdown",
   "metadata": {},
   "source": [
    "Vamos a ver la matriz de confusion de nuestro modelo"
   ]
  },
  {
   "cell_type": "code",
   "execution_count": 161,
   "metadata": {},
   "outputs": [
    {
     "data": {
      "text/plain": [
       "array([[51,  6],\n",
       "       [ 2, 28]], dtype=int64)"
      ]
     },
     "execution_count": 161,
     "metadata": {},
     "output_type": "execute_result"
    }
   ],
   "source": [
    "confusion_matrix(y_test, y_pred)"
   ]
  },
  {
   "cell_type": "markdown",
   "metadata": {},
   "source": [
    "Viendo la matriz de confusion nos damos cuenta que la mayoria de los resultados caen en la horizontal lo cual es un excelente pronostico para nuestro modelo, \n",
    "\n",
    "**Tenemos 2 falsos negativos y 6 falsos positivos** "
   ]
  },
  {
   "cell_type": "code",
   "execution_count": 173,
   "metadata": {},
   "outputs": [
    {
     "name": "stdout",
     "output_type": "stream",
     "text": [
      "\n",
      "Clasification report:\n",
      "              precision    recall  f1-score   support\n",
      "\n",
      "          0       0.96      0.89      0.93        57\n",
      "          1       0.82      0.93      0.87        30\n",
      "\n",
      "avg / total       0.91      0.91      0.91        87\n",
      "\n"
     ]
    }
   ],
   "source": [
    "print ('\\nClasification report:\\n', classification_report(y_test, y_pred))"
   ]
  }
 ],
 "metadata": {
  "kernelspec": {
   "display_name": "Python 3",
   "language": "python",
   "name": "python3"
  },
  "language_info": {
   "codemirror_mode": {
    "name": "ipython",
    "version": 3
   },
   "file_extension": ".py",
   "mimetype": "text/x-python",
   "name": "python",
   "nbconvert_exporter": "python",
   "pygments_lexer": "ipython3",
   "version": "3.7.0"
  }
 },
 "nbformat": 4,
 "nbformat_minor": 2
}
